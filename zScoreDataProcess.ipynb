{
  "cells": [
    {
      "cell_type": "markdown",
      "metadata": {
        "id": "tcpz_RYegB1T"
      },
      "source": [
        "Reference : https://facebook.github.io/prophet/docs/quick_start.html#python-api"
      ]
    },
    {
      "cell_type": "code",
      "execution_count": 1,
      "metadata": {
        "id": "Hk6jappgzJ_k"
      },
      "outputs": [],
      "source": [
        "from google.colab import auth\n",
        "import gspread\n",
        "from google.auth import default\n"
      ]
    },
    {
      "cell_type": "code",
      "execution_count": 2,
      "metadata": {
        "colab": {
          "base_uri": "https://localhost:8080/"
        },
        "id": "-GPJQwuu5xR-",
        "outputId": "9de70a32-55ca-406e-ef66-ad04596df135"
      },
      "outputs": [
        {
          "name": "stdout",
          "output_type": "stream",
          "text": [
            "Drive already mounted at /content/drive; to attempt to forcibly remount, call drive.mount(\"/content/drive\", force_remount=True).\n"
          ]
        }
      ],
      "source": [
        "from google.colab import drive\n",
        "\n",
        "drive.mount('/content/drive')"
      ]
    },
    {
      "cell_type": "code",
      "execution_count": 3,
      "metadata": {
        "colab": {
          "base_uri": "https://localhost:8080/"
        },
        "id": "ugBgRDPL52Vb",
        "outputId": "aeb6c887-4778-418c-b0c3-58318f3e9596"
      },
      "outputs": [
        {
          "name": "stdout",
          "output_type": "stream",
          "text": [
            "drive\t     sensor1EvacAnom.csv  sensor3EvacAnom.csv\n",
            "sample_data  sensor2EvacAnom.csv  sensor5EvacAnom.csv\n"
          ]
        }
      ],
      "source": [
        "!ls"
      ]
    },
    {
      "cell_type": "code",
      "execution_count": 4,
      "metadata": {
        "id": "Bzcqb7VUpFSK"
      },
      "outputs": [],
      "source": [
        "import pandas as pd\n",
        "import numpy as np\n",
        "sensor1Evac = 'data/hvac_ahu_sensors/ahu1_evac.csv'\n",
        "sensor2Evac = 'data/hvac_ahu_sensors/ahu2_evac.csv'\n",
        "sensor3Evac = 'data/hvac_ahu_sensors/ahu3_evac.csv'\n",
        "sensor5Evac = 'data/hvac_ahu_sensors/ahu5_evac.csv'\n"
      ]
    },
    {
      "cell_type": "code",
      "execution_count": 5,
      "metadata": {
        "id": "vvkvCgXLizkZ"
      },
      "outputs": [],
      "source": [
        "from sklearn import preprocessing\n",
        "label_encoder = preprocessing.LabelEncoder()"
      ]
    },
    {
      "cell_type": "code",
      "execution_count": 6,
      "metadata": {
        "id": "UyOJSmb4pzoF"
      },
      "outputs": [],
      "source": [
        "winterSeason = [\"Dec\",\"Jan\",\"Feb\"]\n",
        "springSeason = [\"Mar\",\"Apr\",\"May\"]\n",
        "summerSeason = [\"Jun\",\"Jul\",\"Aug\"]\n",
        "fallSeason = [\"Sep\",\"Oct\",\"Nov\"]\n"
      ]
    },
    {
      "cell_type": "markdown",
      "metadata": {},
      "source": [
        "# Trying to calc mean by season in sensor1 data"
      ]
    },
    {
      "cell_type": "code",
      "execution_count": 7,
      "metadata": {
        "id": "lD4buI8Nttan"
      },
      "outputs": [],
      "source": [
        "sensor1 = pd.read_csv(sensor1Evac)\n",
        "sensor1 = sensor1.rename(columns={\"Timestamp\": \"ds\", \"demo/CTA1_Temperatura_Evacuare (°C)\": \"Temperature\"})"
      ]
    },
    {
      "cell_type": "code",
      "execution_count": 13,
      "metadata": {
        "id": "Wnguwj05tvAo"
      },
      "outputs": [],
      "source": [
        "sensor1['isWinter'] = sensor1['ds'].str.contains('|'.join(winterSeason))\n",
        "sensor1['isSpring'] = sensor1['ds'].str.contains('|'.join(springSeason))\n",
        "sensor1['isSummer'] = sensor1['ds'].str.contains('|'.join(summerSeason))\n",
        "sensor1['isFall'] = sensor1['ds'].str.contains('|'.join(fallSeason))\n",
        "\n",
        "\n",
        "sensor1['isWinter']= label_encoder.fit_transform(sensor1['isWinter'])\n",
        "sensor1['isSpring']= label_encoder.fit_transform(sensor1['isSpring'])\n",
        "sensor1['isSummer']= label_encoder.fit_transform(sensor1['isSummer'])\n",
        "sensor1['isFall']= label_encoder.fit_transform(sensor1['isFall'])\n"
      ]
    },
    {
      "cell_type": "code",
      "execution_count": 14,
      "metadata": {
        "colab": {
          "base_uri": "https://localhost:8080/"
        },
        "id": "RejFf6FVwkOq",
        "outputId": "454798c3-ae31-4a19-9568-6545528ce1de"
      },
      "outputs": [
        {
          "name": "stdout",
          "output_type": "stream",
          "text": [
            "<class 'pandas.core.frame.DataFrame'>\n",
            "RangeIndex: 103004 entries, 0 to 103003\n",
            "Data columns (total 6 columns):\n",
            " #   Column       Non-Null Count   Dtype  \n",
            "---  ------       --------------   -----  \n",
            " 0   ds           103004 non-null  object \n",
            " 1   Temperature  103004 non-null  float64\n",
            " 2   isWinter     103004 non-null  int64  \n",
            " 3   isSpring     103004 non-null  int64  \n",
            " 4   isSummer     103004 non-null  int64  \n",
            " 5   isFall       103004 non-null  int64  \n",
            "dtypes: float64(1), int64(4), object(1)\n",
            "memory usage: 4.7+ MB\n"
          ]
        }
      ],
      "source": [
        "sensor1.info()"
      ]
    },
    {
      "cell_type": "code",
      "execution_count": 12,
      "metadata": {
        "id": "XQY8LcaFwuDU"
      },
      "outputs": [],
      "source": [
        "sensor1.to_csv('sensor1EvacAnom.csv')"
      ]
    },
    {
      "cell_type": "code",
      "execution_count": 16,
      "metadata": {
        "colab": {
          "base_uri": "https://localhost:8080/"
        },
        "id": "egg171f6t3xE",
        "outputId": "e31d9eb5-ff70-4a69-8fd3-813cc1cbe53b"
      },
      "outputs": [
        {
          "ename": "TypeError",
          "evalue": "ignored",
          "output_type": "error",
          "traceback": [
            "\u001b[0;31m---------------------------------------------------------------------------\u001b[0m",
            "\u001b[0;31mTypeError\u001b[0m                                 Traceback (most recent call last)",
            "\u001b[0;32m<ipython-input-16-7934c34724c8>\u001b[0m in \u001b[0;36m<module>\u001b[0;34m()\u001b[0m\n\u001b[0;32m----> 1\u001b[0;31m \u001b[0mmeanWinter\u001b[0m \u001b[0;34m=\u001b[0m \u001b[0mfloat\u001b[0m\u001b[0;34m(\u001b[0m\u001b[0mdata_raw\u001b[0m\u001b[0;34m.\u001b[0m\u001b[0mgroupby\u001b[0m\u001b[0;34m(\u001b[0m\u001b[0;34m'isWinter'\u001b[0m\u001b[0;34m)\u001b[0m\u001b[0;34m[\u001b[0m\u001b[0;34m\"Temperature\"\u001b[0m\u001b[0;34m]\u001b[0m\u001b[0;34m.\u001b[0m\u001b[0mmean\u001b[0m\u001b[0;34m(\u001b[0m\u001b[0;34m)\u001b[0m\u001b[0;34m)\u001b[0m\u001b[0;34m\u001b[0m\u001b[0;34m\u001b[0m\u001b[0m\n\u001b[0m\u001b[1;32m      2\u001b[0m \u001b[0mmeanWinter\u001b[0m\u001b[0;34m\u001b[0m\u001b[0;34m\u001b[0m\u001b[0m\n",
            "\u001b[0;32m/usr/local/lib/python3.7/dist-packages/pandas/core/series.py\u001b[0m in \u001b[0;36mwrapper\u001b[0;34m(self)\u001b[0m\n\u001b[1;32m    183\u001b[0m         \u001b[0;32mif\u001b[0m \u001b[0mlen\u001b[0m\u001b[0;34m(\u001b[0m\u001b[0mself\u001b[0m\u001b[0;34m)\u001b[0m \u001b[0;34m==\u001b[0m \u001b[0;36m1\u001b[0m\u001b[0;34m:\u001b[0m\u001b[0;34m\u001b[0m\u001b[0;34m\u001b[0m\u001b[0m\n\u001b[1;32m    184\u001b[0m             \u001b[0;32mreturn\u001b[0m \u001b[0mconverter\u001b[0m\u001b[0;34m(\u001b[0m\u001b[0mself\u001b[0m\u001b[0;34m.\u001b[0m\u001b[0miloc\u001b[0m\u001b[0;34m[\u001b[0m\u001b[0;36m0\u001b[0m\u001b[0;34m]\u001b[0m\u001b[0;34m)\u001b[0m\u001b[0;34m\u001b[0m\u001b[0;34m\u001b[0m\u001b[0m\n\u001b[0;32m--> 185\u001b[0;31m         \u001b[0;32mraise\u001b[0m \u001b[0mTypeError\u001b[0m\u001b[0;34m(\u001b[0m\u001b[0;34mf\"cannot convert the series to {converter}\"\u001b[0m\u001b[0;34m)\u001b[0m\u001b[0;34m\u001b[0m\u001b[0;34m\u001b[0m\u001b[0m\n\u001b[0m\u001b[1;32m    186\u001b[0m \u001b[0;34m\u001b[0m\u001b[0m\n\u001b[1;32m    187\u001b[0m     \u001b[0mwrapper\u001b[0m\u001b[0;34m.\u001b[0m\u001b[0m__name__\u001b[0m \u001b[0;34m=\u001b[0m \u001b[0;34mf\"__{converter.__name__}__\"\u001b[0m\u001b[0;34m\u001b[0m\u001b[0;34m\u001b[0m\u001b[0m\n",
            "\u001b[0;31mTypeError\u001b[0m: cannot convert the series to <class 'float'>"
          ]
        }
      ],
      "source": [
        "# meanWinter = float(sensor1.groupby('isWinter')[\"Temperature\"].mean())\n"
      ]
    },
    {
      "cell_type": "code",
      "execution_count": null,
      "metadata": {},
      "outputs": [],
      "source": [
        "meanWinter = float(sensor1.groupby('isWinter')[\"Temperature\"].mean())"
      ]
    },
    {
      "cell_type": "markdown",
      "metadata": {},
      "source": [
        "# Sensor 1 to CSV"
      ]
    },
    {
      "cell_type": "code",
      "execution_count": null,
      "metadata": {
        "id": "ao5CFzyXlqXA"
      },
      "outputs": [],
      "source": [
        "sd = 2\n",
        "threshold = 2\n",
        "z = (sensor1['Temperature'] - mean) / sd # calculate z-score\n",
        "sensor1['isAnomaly'] = (abs((sensor1['Temperature'] - mean) / sd) > threshold) == True\n",
        "# Encode labels in column 'species'.\n",
        "sensor1['isAnomaly']= label_encoder.fit_transform(sensor1['isAnomaly'])\n",
        "sensor1[\"class\"] = 1\n"
      ]
    },
    {
      "cell_type": "code",
      "execution_count": null,
      "metadata": {
        "id": "_a1BVT3DjXSJ"
      },
      "outputs": [],
      "source": [
        "sensor1['ds'] = sensor1['ds'].str.replace('EEST', 'EET')"
      ]
    },
    {
      "cell_type": "code",
      "execution_count": null,
      "metadata": {
        "id": "HMNHNvzHjZ2C"
      },
      "outputs": [],
      "source": [
        "sensor1.to_csv('sensor1EvacAnom.csv')"
      ]
    },
    {
      "cell_type": "markdown",
      "metadata": {},
      "source": [
        "# Sensor 2 to CSV"
      ]
    },
    {
      "cell_type": "code",
      "execution_count": null,
      "metadata": {
        "id": "pPZq-WU8k7dM"
      },
      "outputs": [],
      "source": [
        "data_raw2 = pd.read_csv(sensor2Evac)\n",
        "\n",
        "data_raw2 = data_raw2.rename(columns={\"Timestamp\": \"ds\", \"demo/CTA2_Temperatura_Evacuare (°C)\": \"Temperature\"})\n",
        "mean = float(data_raw2[\"Temperature\"].mean())\n",
        "sd = 2\n",
        "threshold = 2\n",
        "z = (data_raw2['Temperature'] - mean) / sd # calculate z-score\n",
        "data_raw2['isAnomaly'] = (abs((data_raw2['Temperature'] - mean) / sd) > threshold) == True\n",
        "# Encode labels in column 'species'.\n",
        "data_raw2['isAnomaly']= label_encoder.fit_transform(data_raw2['isAnomaly'])\n",
        "data_raw2[\"class\"] = 2\n",
        "data_raw2['ds'] = data_raw2['ds'].str.replace('EEST', 'EET')\n",
        "data_raw2.to_csv('sensor2EvacAnom.csv')"
      ]
    },
    {
      "cell_type": "markdown",
      "metadata": {},
      "source": [
        "# Sensor 3 to CSV"
      ]
    },
    {
      "cell_type": "code",
      "execution_count": null,
      "metadata": {
        "id": "mPNJLvWvk7gJ"
      },
      "outputs": [],
      "source": [
        "data_raw3 = pd.read_csv(sensor3Evac)\n",
        "\n",
        "data_raw3 = data_raw3.rename(columns={\"Timestamp\": \"ds\", \"demo/CTA3_Temp_Extragere (°C)\": \"Temperature\"})\n",
        "mean = float(data_raw3[\"Temperature\"].mean())\n",
        "sd = 2\n",
        "threshold = 2\n",
        "z = (data_raw3['Temperature'] - mean) / sd # calculate z-score\n",
        "data_raw3['isAnomaly'] = (abs((data_raw3['Temperature'] - mean) / sd) > threshold) == True\n",
        "# Encode labels in column 'species'.\n",
        "data_raw3['isAnomaly']= label_encoder.fit_transform(data_raw3['isAnomaly'])\n",
        "data_raw3[\"class\"] = 3\n",
        "data_raw3['ds'] = data_raw3['ds'].str.replace('EEST', 'EET')\n",
        "data_raw3.to_csv('sensor3EvacAnom.csv')"
      ]
    },
    {
      "cell_type": "markdown",
      "metadata": {},
      "source": [
        "# Sensor 5 to CSV"
      ]
    },
    {
      "cell_type": "code",
      "execution_count": null,
      "metadata": {
        "id": "DaO_Yradk7i3"
      },
      "outputs": [],
      "source": [
        "data_raw5 = pd.read_csv(sensor5Evac)\n",
        "\n",
        "data_raw5 = data_raw5.rename(columns={\"Timestamp\": \"ds\", \"demo/CTA5_Temperatura_extragere (°C)\": \"Temperature\"})\n",
        "mean = float(data_raw5[\"Temperature\"].mean())\n",
        "sd = 2\n",
        "threshold = 2\n",
        "z = (data_raw5['Temperature'] - mean) / sd # calculate z-score\n",
        "data_raw5['isAnomaly'] = (abs((data_raw5['Temperature'] - mean) / sd) > threshold) == True\n",
        "# Encode labels in column 'species'.\n",
        "data_raw5['isAnomaly']= label_encoder.fit_transform(data_raw5['isAnomaly'])\n",
        "data_raw5[\"class\"] = 5\n",
        "data_raw5['ds'] = data_raw5['ds'].str.replace('EEST', 'EET')\n",
        "data_raw5.to_csv('sensor5EvacAnom.csv')"
      ]
    }
  ],
  "metadata": {
    "colab": {
      "collapsed_sections": [],
      "name": "Working_ahuEvacSensors.ipynb",
      "provenance": []
    },
    "kernelspec": {
      "display_name": "Python 3",
      "name": "python3"
    },
    "language_info": {
      "name": "python"
    }
  },
  "nbformat": 4,
  "nbformat_minor": 0
}
